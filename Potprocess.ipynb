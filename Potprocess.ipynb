{
 "cells": [
  {
   "cell_type": "code",
   "execution_count": 235,
   "id": "7a3b07c0",
   "metadata": {},
   "outputs": [],
   "source": [
    "import os\n",
    "import numpy as np\n",
    "import pandas as pd\n",
    "import sqlite3\n",
    "from os import listdir\n",
    "import plotly.express as px\n",
    "\n",
    "\n"
   ]
  },
  {
   "cell_type": "code",
   "execution_count": 234,
   "id": "4aab962b",
   "metadata": {},
   "outputs": [
    {
     "data": {
      "text/plain": [
       "0     22640\n",
       "1     20000\n",
       "2     22640\n",
       "3     19360\n",
       "4     18480\n",
       "5     17040\n",
       "6     19200\n",
       "7     18880\n",
       "8     17600\n",
       "9     16080\n",
       "10    17840\n",
       "11    20400\n",
       "Name: kWh, dtype: int64"
      ]
     },
     "execution_count": 234,
     "metadata": {},
     "output_type": "execute_result"
    }
   ],
   "source": [
    "meters_n96_2020 = pd.read_excel('/Users/cbianchi/Downloads/ERMA/meters.xlsx', sheet_name=0)['kWh'][:12]\n",
    "meters_576esu_2020 = pd.read_excel('/Users/cbianchi/Downloads/ERMA/meters.xlsx', sheet_name='576 ESU')['kWh'][:12]\n",
    "meters_14_hangar_2020 = pd.read_excel('/Users/cbianchi/Downloads/ERMA/meters.xlsx', sheet_name='14 Hangar1')['kWh'][:12]\n",
    "meters_20_hangar_2020 = pd.read_excel('/Users/cbianchi/Downloads/ERMA/meters.xlsx', sheet_name='20 Hangar2')['kWh'][:12]\n",
    "meters_15_hangar_2020 = pd.read_excel('/Users/cbianchi/Downloads/ERMA/meters.xlsx', sheet_name='15 Hangar3')['Monthly Elec kWh'][:12]\n",
    "meters_N23_2020 = pd.read_excel('/Users/cbianchi/Downloads/ERMA/meters.xlsx', sheet_name='N23')['kWh'][:12]\n",
    "meters_N2_2020 = pd.read_excel('/Users/cbianchi/Downloads/ERMA/meters.xlsx', sheet_name='N2')['kWh'][:12]\n",
    "meters_Cuttermans_2020 = pd.read_excel('/Users/cbianchi/Downloads/ERMA/meters.xlsx', sheet_name='614 Cuttermans')['kWh'][:12]\n",
    "meters_N73_2020 = pd.read_excel('/Users/cbianchi/Downloads/ERMA/meters.xlsx', sheet_name='N73')['kWh'][:12]\n",
    "meters_R2_2020 = pd.read_excel('/Users/cbianchi/Downloads/ERMA/meters.xlsx', sheet_name='R2')['kWh'][:12]\n",
    "meters_T1_2020 = pd.read_excel('/Users/cbianchi/Downloads/ERMA/meters.xlsx', sheet_name='T1')['Monthly Elec kWh'][:12]\n",
    "# meters_T1_2020 = pd.read_excel('/Users/cbianchi/Downloads/ERMA/meters.xlsx', sheet_name='614 Cuttermans')['kWh'][:12]\n",
    "\n",
    "\n",
    "\n",
    "meters_576esu_2020"
   ]
  },
  {
   "cell_type": "code",
   "execution_count": 344,
   "id": "810c3807",
   "metadata": {
    "scrolled": false
   },
   "outputs": [
    {
     "name": "stdout",
     "output_type": "stream",
     "text": [
      "                     N73 [kWh]\n",
      "2020-01-01 00:00:00   5.547616\n",
      "2020-01-01 01:00:00   5.587763\n",
      "2020-01-01 02:00:00   5.587763\n",
      "2020-01-01 03:00:00   5.587763\n",
      "2020-01-01 04:00:00   6.012423\n",
      "...                        ...\n",
      "2020-12-31 19:00:00   7.067681\n",
      "2020-12-31 20:00:00   6.347731\n",
      "2020-12-31 21:00:00   6.081506\n",
      "2020-12-31 22:00:00   5.561680\n",
      "2020-12-31 23:00:00   5.504462\n",
      "\n",
      "[8784 rows x 1 columns]\n"
     ]
    }
   ],
   "source": [
    "def return_path(sql_dir):\n",
    "    sql_file = 'eplusout.sql'\n",
    "    sql_path = os.path.join(sql_dir, sql_file)\n",
    "    write_dir = sql_dir\n",
    "    return sql_path\n",
    "\n",
    "def return_values(sql_dir, line_number):\n",
    "    sql_path = return_path(sql_dir)\n",
    "    conn = sqlite3.connect(sql_path)\n",
    "    c = conn.cursor()\n",
    "#     query = \"SELECT * FROM TabularDataWithStrings WHERE ReportName='AnnualBuildingUtilityPerformanceSummary' AND TableName='End Uses'\"\n",
    "    query = \"SELECT * FROM ReportMeterDataDictionary \"\n",
    "    query = \"SELECT VariableValue FROM ReportMeterData WHERE ReportMeterDataDictionaryIndex= \" + str(line_number)\n",
    "    end_uses = pd.read_sql(query ,conn) #J\n",
    "#     print(end_uses)\n",
    "    electric_kWh = end_uses*2.7778e-7\n",
    "    return electric_kWh\n",
    "\n",
    "\n",
    "def return_values_h(sql_dir, line_number):\n",
    "    sql_path = return_path(sql_dir)\n",
    "    conn = sqlite3.connect(sql_path)\n",
    "    c = conn.cursor()\n",
    "#     query = \"SELECT * FROM TabularDataWithStrings WHERE ReportName='AnnualBuildingUtilityPerformanceSummary' AND TableName='End Uses'\"\n",
    "    query = \"SELECT * FROM ReportMeterDataDictionary \"\n",
    "    query = \"SELECT VariableValue FROM ReportMeterData WHERE ReportMeterDataDictionaryIndex= \" + str(line_number)\n",
    "    end_uses = pd.read_sql(query ,conn) #J\n",
    "#     print(end_uses)\n",
    "    \n",
    "    electric_kWh = end_uses*2.7778e-7\n",
    "    return electric_kWh\n",
    "\n",
    "\n",
    "def Filter(string, substr):\n",
    "    return [str for str in string if\n",
    "             any(sub in str for sub in substr)]\n",
    "    \n",
    "def calculate_percentage(df, headers):\n",
    "    df_perc = pd.DataFrame()\n",
    "    for col in headers[:3]:\n",
    "        df_perc[col] = df[col]        \n",
    "    for col in headers[3:]:\n",
    "        max_val = max(df[col])\n",
    "        if max_val == 0:\n",
    "            df_perc[col] = df[col]*0\n",
    "        else:\n",
    "            df_perc[col] = (df[col]/max_val*100).round(1)\n",
    "            \n",
    "    return df_perc\n",
    "        \n",
    "def monthly_df(sql_dir, meter, line_number):\n",
    "    df = pd.DataFrame()\n",
    "    df['Modeled Data [kWh]'] = return_values(sql_dir, line_number)['VariableValue']\n",
    "    df['Metered Data [kWh]'] = meter\n",
    "\n",
    "    df.index = pd.date_range(\"20200101\", \"20201231\", freq='MS')\n",
    "    df['Error [%]'] = ((df['Metered Data [kWh]']-df['Modeled Data [kWh]'])/df['Metered Data [kWh]']*100).round(1)\n",
    "    \n",
    "#     print('Annual Error')\n",
    "#     print(((df['Modeled Data [kWh]'].sum()-df['Metered Data [kWh]'].sum())/df['Metered Data [kWh]'].sum()*100).round(1))\n",
    "\n",
    "    print('NMBE')\n",
    "    MBE = np.mean(df['Metered Data [kWh]'] - df['Modeled Data [kWh]'])\n",
    "    NMBE = MBE*100*(1/np.mean(df['Metered Data [kWh]']))\n",
    "    print(round(NMBE, 1))\n",
    "    \n",
    "    \n",
    "    print('CVRMSE')\n",
    "    m_mean = (np.mean(df['Metered Data [kWh]']))\n",
    "    residuals = df['Metered Data [kWh]'] - df['Modeled Data [kWh]']\n",
    "    residuals_squared = residuals**2\n",
    "    sum_residuals_squared = sum(residuals**2)\n",
    "    rmse_adj = (sum_residuals_squared/(len(df.index)))**0.5\n",
    "    cvrmse_adj = rmse_adj/m_mean*100\n",
    "    print(round(cvrmse_adj, 1))\n",
    "    \n",
    "#     print(((df['Metered Data [kWh]'] - df['Modeled Data [kWh]']).sum()/len(df.index)))\n",
    "    \n",
    "    return df\n",
    "\n",
    "\n",
    "def hourly_df(sql_dir, meter, line_number, bldg_name):\n",
    "    \n",
    "    try:\n",
    "        df = pd.DataFrame()\n",
    "        df['Modeled Data [kWh]'] = return_values_h(sql_dir, line_number)['VariableValue']\n",
    "    #     df['Metered Data [kWh]'] = meter\n",
    "\n",
    "        df.index = pd.date_range(start='2020-01-01 00:00:00', end='2020-12-31 23:59:00', freq='10min')\n",
    "        df = df.resample('1h').sum()\n",
    "    except:\n",
    "        df = pd.DataFrame()\n",
    "        df['Modeled Data [kWh]'] = return_values_h(sql_dir, line_number)['VariableValue']\n",
    "    #     df['Metered Data [kWh]'] = meter\n",
    "\n",
    "        df.index = pd.date_range(start='2020-01-01 00:00:00', end='2020-12-31 23:59:00', freq='60min')\n",
    "        df = df.resample('1h').sum()\n",
    "    \n",
    "    df.rename(columns = {'Modeled Data [kWh]': bldg_name + ' [kWh]'}, inplace = True)\n",
    "    return df\n",
    "    \n",
    "    \n",
    "    \n",
    "meter = meters_N73_2020\n",
    "sql_dir = '/Users/cbianchi/Downloads/ERMA/N73/run/in/run/'\n",
    "\n",
    "print(hourly_df(sql_dir, meter, 8, 'N73'))\n",
    "\n",
    "# print(monthly_df(sql_dir, meter, 11))\n",
    "\n",
    "#Increase some plug load\n",
    "# Add electric heating as a plug load - attach it to some schedule\n",
    "\n",
    "list_dfs = []\n",
    "\n",
    "\n"
   ]
  },
  {
   "cell_type": "code",
   "execution_count": 345,
   "id": "4b8c9374",
   "metadata": {},
   "outputs": [],
   "source": [
    "meter = meters_n96_2020\n",
    "sql_dir = '/Users/cbianchi/Downloads/ERMA/N96_2020/run/in/run/'\n",
    "\n",
    "\n",
    "\n",
    "# monthly_df(sql_dir, meter, 11)\n",
    "list_dfs.append(hourly_df(sql_dir, meter, 8, 'N96'))"
   ]
  },
  {
   "cell_type": "code",
   "execution_count": 346,
   "id": "691ca10c",
   "metadata": {
    "scrolled": false
   },
   "outputs": [
    {
     "name": "stdout",
     "output_type": "stream",
     "text": [
      "NMBE\n",
      "4.3\n",
      "CVRMSE\n",
      "6.0\n"
     ]
    }
   ],
   "source": [
    "\n",
    "meter = meters_14_hangar_2020\n",
    "sql_dir = '/Users/cbianchi/Downloads/ERMA/14_Hangar/run/in/run/'\n",
    "\n",
    "monthly_df(sql_dir, meter, 11)\n",
    "list_dfs.append(hourly_df(sql_dir, meter, 8, '14 Hangar I'))\n"
   ]
  },
  {
   "cell_type": "code",
   "execution_count": 347,
   "id": "6f794feb",
   "metadata": {},
   "outputs": [
    {
     "name": "stdout",
     "output_type": "stream",
     "text": [
      "NMBE\n",
      "-0.6\n",
      "CVRMSE\n",
      "10.8\n"
     ]
    }
   ],
   "source": [
    "    \n",
    "meter = meters_20_hangar_2020\n",
    "sql_dir = '/Users/cbianchi/Downloads/ERMA/20_Hangar/run/in/run/'\n",
    "\n",
    "monthly_df(sql_dir, meter, 11)\n",
    "list_dfs.append(hourly_df(sql_dir, meter, 8, '20 Hangar II'))"
   ]
  },
  {
   "cell_type": "code",
   "execution_count": 348,
   "id": "0919666e",
   "metadata": {},
   "outputs": [
    {
     "name": "stdout",
     "output_type": "stream",
     "text": [
      "NMBE\n",
      "-4.0\n",
      "CVRMSE\n",
      "11.3\n"
     ]
    }
   ],
   "source": [
    "    \n",
    "meter = meters_15_hangar_2020\n",
    "sql_dir = '/Users/cbianchi/Downloads/ERMA/15_Hangar/run/in/run/'\n",
    "\n",
    "monthly_df(sql_dir, meter, 11)\n",
    "list_dfs.append(hourly_df(sql_dir, meter, 8, '15 Hangar 3'))"
   ]
  },
  {
   "cell_type": "code",
   "execution_count": 349,
   "id": "549f79ad",
   "metadata": {},
   "outputs": [
    {
     "name": "stdout",
     "output_type": "stream",
     "text": [
      "NMBE\n",
      "-2.0\n",
      "CVRMSE\n",
      "4.5\n"
     ]
    }
   ],
   "source": [
    "meter = meters_N23_2020\n",
    "sql_dir = '/Users/cbianchi/Downloads/ERMA/N23/run/in/run/'\n",
    "\n",
    "monthly_df(sql_dir, meter, 11)\n",
    "list_dfs.append(hourly_df(sql_dir, meter, 8, 'N23'))\n"
   ]
  },
  {
   "cell_type": "code",
   "execution_count": 350,
   "id": "fe513b45",
   "metadata": {},
   "outputs": [
    {
     "name": "stdout",
     "output_type": "stream",
     "text": [
      "NMBE\n",
      "-2.8\n",
      "CVRMSE\n",
      "6.0\n"
     ]
    }
   ],
   "source": [
    "meter = meters_N2_2020\n",
    "sql_dir = '/Users/cbianchi/Downloads/ERMA/N2/run/in/run/'\n",
    "\n",
    "monthly_df(sql_dir, meter, 11)\n",
    "list_dfs.append(hourly_df(sql_dir, meter, 8, 'N2'))"
   ]
  },
  {
   "cell_type": "code",
   "execution_count": 351,
   "id": "1052519f",
   "metadata": {},
   "outputs": [
    {
     "name": "stdout",
     "output_type": "stream",
     "text": [
      "NMBE\n",
      "-1.7\n",
      "CVRMSE\n",
      "4.1\n"
     ]
    }
   ],
   "source": [
    "    \n",
    "meter = meters_Cuttermans_2020\n",
    "sql_dir = '/Users/cbianchi/Downloads/ERMA/614_Cutterman/run/in/run/'\n",
    "\n",
    "monthly_df(sql_dir, meter, 11)\n",
    "\n",
    "list_dfs.append(hourly_df(sql_dir, meter, 8, \"614 CUTTERMAN'S CLUB/AUTO HOBBY\"))\n",
    "\n"
   ]
  },
  {
   "cell_type": "code",
   "execution_count": 352,
   "id": "be2e6d73",
   "metadata": {},
   "outputs": [
    {
     "name": "stdout",
     "output_type": "stream",
     "text": [
      "NMBE\n",
      "-3.1\n",
      "CVRMSE\n",
      "9.5\n"
     ]
    }
   ],
   "source": [
    "meter = meters_N73_2020\n",
    "sql_dir = '/Users/cbianchi/Downloads/ERMA/N73/run/in/run/'\n",
    "\n",
    "monthly_df(sql_dir, meter, 11)\n",
    "list_dfs.append(hourly_df(sql_dir, meter, 8, 'N73'))\n"
   ]
  },
  {
   "cell_type": "code",
   "execution_count": 353,
   "id": "fcc41714",
   "metadata": {},
   "outputs": [
    {
     "name": "stdout",
     "output_type": "stream",
     "text": [
      "NMBE\n",
      "2.2\n",
      "CVRMSE\n",
      "7.4\n"
     ]
    }
   ],
   "source": [
    "    \n",
    "meter = meters_R2_2020\n",
    "sql_dir = '/Users/cbianchi/Downloads/ERMA/R2/run/in/run/'\n",
    "\n",
    "monthly_df(sql_dir, meter, 11)\n",
    "list_dfs.append(hourly_df(sql_dir, meter, 8, 'R2'))"
   ]
  },
  {
   "cell_type": "code",
   "execution_count": 354,
   "id": "0c87c34a",
   "metadata": {},
   "outputs": [
    {
     "name": "stdout",
     "output_type": "stream",
     "text": [
      "NMBE\n",
      "2.0\n",
      "CVRMSE\n",
      "3.5\n"
     ]
    }
   ],
   "source": [
    "meter = meters_T1_2020\n",
    "sql_dir = '/Users/cbianchi/Downloads/ERMA/T1/run/in/run/'\n",
    "\n",
    "monthly_df(sql_dir, meter, 11)\n",
    "list_dfs.append(hourly_df(sql_dir, meter, 8, 'T1'))\n"
   ]
  },
  {
   "cell_type": "code",
   "execution_count": 355,
   "id": "55c16655",
   "metadata": {},
   "outputs": [
    {
     "name": "stdout",
     "output_type": "stream",
     "text": [
      "NMBE\n",
      "1.9\n",
      "CVRMSE\n",
      "9.5\n"
     ]
    }
   ],
   "source": [
    "meter = meters_576esu_2020\n",
    "sql_dir = '/Users/cbianchi/Downloads/ERMA/576ESU/run/in/run/'\n",
    "monthly_df(sql_dir, meter, 11)\n",
    "list_dfs.append(hourly_df(sql_dir, meter, 8, '576 ESU'))\n",
    "\n"
   ]
  },
  {
   "cell_type": "code",
   "execution_count": 356,
   "id": "b1188471",
   "metadata": {},
   "outputs": [
    {
     "name": "stdout",
     "output_type": "stream",
     "text": [
      "NMBE\n",
      "43.7\n",
      "CVRMSE\n",
      "44.5\n"
     ]
    }
   ],
   "source": [
    "meter = meters_576esu_2020\n",
    "sql_dir = '/Users/cbianchi/Downloads/ERMA/MWD/run/in/run/'\n",
    "monthly_df(sql_dir, meter, 11)\n",
    "list_dfs.append(hourly_df(sql_dir, meter, 8, 'MWD'))\n",
    "\n"
   ]
  },
  {
   "cell_type": "code",
   "execution_count": 357,
   "id": "7a3ad985",
   "metadata": {},
   "outputs": [
    {
     "data": {
      "text/plain": [
       "[                     N96 [kWh]\n",
       " 2020-01-01 00:00:00   5.033341\n",
       " 2020-01-01 01:00:00   5.332522\n",
       " 2020-01-01 02:00:00   5.457181\n",
       " 2020-01-01 03:00:00   5.806883\n",
       " 2020-01-01 04:00:00   5.486918\n",
       " ...                        ...\n",
       " 2020-12-31 19:00:00   4.999585\n",
       " 2020-12-31 20:00:00   5.247336\n",
       " 2020-12-31 21:00:00   4.824558\n",
       " 2020-12-31 22:00:00   4.844367\n",
       " 2020-12-31 23:00:00   5.401457\n",
       " \n",
       " [8784 rows x 1 columns],\n",
       "                      14 Hangar I [kWh]\n",
       " 2020-01-01 00:00:00         172.206096\n",
       " 2020-01-01 01:00:00         171.695765\n",
       " 2020-01-01 02:00:00         123.066239\n",
       " 2020-01-01 03:00:00         123.677484\n",
       " 2020-01-01 04:00:00         123.879115\n",
       " ...                                ...\n",
       " 2020-12-31 19:00:00         160.529443\n",
       " 2020-12-31 20:00:00         160.878771\n",
       " 2020-12-31 21:00:00         160.528934\n",
       " 2020-12-31 22:00:00         160.529507\n",
       " 2020-12-31 23:00:00         160.878672\n",
       " \n",
       " [8784 rows x 1 columns],\n",
       "                      20 Hangar II [kWh]\n",
       " 2020-01-01 00:00:00          127.283729\n",
       " 2020-01-01 01:00:00          145.147040\n",
       " 2020-01-01 02:00:00          115.581563\n",
       " 2020-01-01 03:00:00          124.101885\n",
       " 2020-01-01 04:00:00          129.120372\n",
       " ...                                 ...\n",
       " 2020-12-31 19:00:00           49.426553\n",
       " 2020-12-31 20:00:00           50.324307\n",
       " 2020-12-31 21:00:00           49.150714\n",
       " 2020-12-31 22:00:00           49.267785\n",
       " 2020-12-31 23:00:00           49.530559\n",
       " \n",
       " [8784 rows x 1 columns],\n",
       "                      15 Hangar 3 [kWh]\n",
       " 2020-01-01 00:00:00         140.867950\n",
       " 2020-01-01 01:00:00         137.898232\n",
       " 2020-01-01 02:00:00         120.577526\n",
       " 2020-01-01 03:00:00         123.230840\n",
       " 2020-01-01 04:00:00         126.471968\n",
       " ...                                ...\n",
       " 2020-12-31 19:00:00         116.819500\n",
       " 2020-12-31 20:00:00         117.167070\n",
       " 2020-12-31 21:00:00         116.816982\n",
       " 2020-12-31 22:00:00         116.821765\n",
       " 2020-12-31 23:00:00         117.167540\n",
       " \n",
       " [8784 rows x 1 columns],\n",
       "                      N23 [kWh]\n",
       " 2020-01-01 00:00:00  14.927931\n",
       " 2020-01-01 01:00:00  14.919963\n",
       " 2020-01-01 02:00:00  14.917983\n",
       " 2020-01-01 03:00:00  14.912872\n",
       " 2020-01-01 04:00:00  15.208273\n",
       " ...                        ...\n",
       " 2020-12-31 19:00:00  16.606773\n",
       " 2020-12-31 20:00:00  16.258303\n",
       " 2020-12-31 21:00:00  16.258303\n",
       " 2020-12-31 22:00:00  16.258303\n",
       " 2020-12-31 23:00:00  16.258250\n",
       " \n",
       " [8784 rows x 1 columns],\n",
       "                       N2 [kWh]\n",
       " 2020-01-01 00:00:00  28.410610\n",
       " 2020-01-01 01:00:00  28.386482\n",
       " 2020-01-01 02:00:00  28.349831\n",
       " 2020-01-01 03:00:00  29.320378\n",
       " 2020-01-01 04:00:00  29.381285\n",
       " ...                        ...\n",
       " 2020-12-31 19:00:00  29.960050\n",
       " 2020-12-31 20:00:00  30.080945\n",
       " 2020-12-31 21:00:00  29.565926\n",
       " 2020-12-31 22:00:00  29.513907\n",
       " 2020-12-31 23:00:00  29.828467\n",
       " \n",
       " [8784 rows x 1 columns],\n",
       "                      614 CUTTERMAN'S CLUB/AUTO HOBBY [kWh]\n",
       " 2020-01-01 00:00:00                              22.867589\n",
       " 2020-01-01 01:00:00                              23.849726\n",
       " 2020-01-01 02:00:00                              24.031320\n",
       " 2020-01-01 03:00:00                              24.769523\n",
       " 2020-01-01 04:00:00                              25.064604\n",
       " ...                                                    ...\n",
       " 2020-12-31 19:00:00                              15.209723\n",
       " 2020-12-31 20:00:00                              15.559955\n",
       " 2020-12-31 21:00:00                              15.215399\n",
       " 2020-12-31 22:00:00                              15.222552\n",
       " 2020-12-31 23:00:00                              15.571745\n",
       " \n",
       " [8784 rows x 1 columns],\n",
       "                      N73 [kWh]\n",
       " 2020-01-01 00:00:00   5.547616\n",
       " 2020-01-01 01:00:00   5.587763\n",
       " 2020-01-01 02:00:00   5.587763\n",
       " 2020-01-01 03:00:00   5.587763\n",
       " 2020-01-01 04:00:00   6.012423\n",
       " ...                        ...\n",
       " 2020-12-31 19:00:00   7.067681\n",
       " 2020-12-31 20:00:00   6.347731\n",
       " 2020-12-31 21:00:00   6.081506\n",
       " 2020-12-31 22:00:00   5.561680\n",
       " 2020-12-31 23:00:00   5.504462\n",
       " \n",
       " [8784 rows x 1 columns],\n",
       "                       R2 [kWh]\n",
       " 2020-01-01 00:00:00   9.972869\n",
       " 2020-01-01 01:00:00   9.972869\n",
       " 2020-01-01 02:00:00   9.972869\n",
       " 2020-01-01 03:00:00  10.322572\n",
       " 2020-01-01 04:00:00   9.972869\n",
       " ...                        ...\n",
       " 2020-12-31 19:00:00  10.862211\n",
       " 2020-12-31 20:00:00  11.198388\n",
       " 2020-12-31 21:00:00  10.834920\n",
       " 2020-12-31 22:00:00  10.045643\n",
       " 2020-12-31 23:00:00  10.423478\n",
       " \n",
       " [8784 rows x 1 columns],\n",
       "                       T1 [kWh]\n",
       " 2020-01-01 00:00:00  77.835810\n",
       " 2020-01-01 01:00:00  77.835446\n",
       " 2020-01-01 02:00:00  77.845077\n",
       " 2020-01-01 03:00:00  78.200743\n",
       " 2020-01-01 04:00:00  78.056589\n",
       " ...                        ...\n",
       " 2020-12-31 19:00:00  91.653207\n",
       " 2020-12-31 20:00:00  87.791789\n",
       " 2020-12-31 21:00:00  79.863322\n",
       " 2020-12-31 22:00:00  78.725389\n",
       " 2020-12-31 23:00:00  78.459038\n",
       " \n",
       " [8784 rows x 1 columns],\n",
       "                      576 ESU [kWh]\n",
       " 2020-01-01 00:00:00      19.672714\n",
       " 2020-01-01 01:00:00      19.598281\n",
       " 2020-01-01 02:00:00      19.548557\n",
       " 2020-01-01 03:00:00      19.658624\n",
       " 2020-01-01 04:00:00      19.969134\n",
       " ...                            ...\n",
       " 2020-12-31 19:00:00      21.700708\n",
       " 2020-12-31 20:00:00      21.777048\n",
       " 2020-12-31 21:00:00      21.138918\n",
       " 2020-12-31 22:00:00      20.444179\n",
       " 2020-12-31 23:00:00      19.900432\n",
       " \n",
       " [8784 rows x 1 columns],\n",
       "                      MWD [kWh]\n",
       " 2020-01-01 00:00:00   8.800386\n",
       " 2020-01-01 01:00:00   8.856236\n",
       " 2020-01-01 02:00:00   8.808962\n",
       " 2020-01-01 03:00:00   8.941057\n",
       " 2020-01-01 04:00:00   9.386792\n",
       " ...                        ...\n",
       " 2020-12-31 19:00:00  12.721814\n",
       " 2020-12-31 20:00:00  12.632052\n",
       " 2020-12-31 21:00:00  10.130403\n",
       " 2020-12-31 22:00:00   8.144261\n",
       " 2020-12-31 23:00:00   7.446355\n",
       " \n",
       " [8784 rows x 1 columns]]"
      ]
     },
     "execution_count": 357,
     "metadata": {},
     "output_type": "execute_result"
    }
   ],
   "source": [
    "list_dfs"
   ]
  },
  {
   "cell_type": "code",
   "execution_count": 361,
   "id": "0df3ccf4",
   "metadata": {},
   "outputs": [],
   "source": [
    "aggregate_df = pd.concat(list_dfs, axis=1)\n",
    "aggregate_df.to_csv('Electric_load_2020.csv')"
   ]
  },
  {
   "cell_type": "code",
   "execution_count": null,
   "id": "b4a5ca37",
   "metadata": {},
   "outputs": [],
   "source": []
  },
  {
   "cell_type": "code",
   "execution_count": null,
   "id": "a0ae9e11",
   "metadata": {},
   "outputs": [],
   "source": []
  },
  {
   "cell_type": "code",
   "execution_count": null,
   "id": "b8fd68b7",
   "metadata": {},
   "outputs": [],
   "source": []
  },
  {
   "cell_type": "code",
   "execution_count": null,
   "id": "73006b1d",
   "metadata": {},
   "outputs": [],
   "source": [
    "def return_values(sql_dir):\n",
    "    sql_path = return_path(sql_dir)\n",
    "    conn = sqlite3.connect(sql_path)\n",
    "    c = conn.cursor()\n",
    "#     query = \"SELECT * FROM TabularDataWithStrings WHERE ReportName='AnnualBuildingUtilityPerformanceSummary' AND TableName='End Uses'\"\n",
    "    query = \"SELECT * FROM ReportMeterDataDictionary \"\n",
    "    query = \"SELECT VariableValue FROM ReportMeterData WHERE ReportMeterDataDictionaryIndex=11 \"\n",
    "    end_uses = pd.read_sql(query ,conn) #J\n",
    "    electric_kWh = end_uses*2.7778e-7\n",
    "#     electric_kWh = end_uses\n",
    "\n",
    "    return electric_kWh\n",
    "       \n",
    "\n",
    "\n",
    "sql_dir = '/Users/cbianchi/Downloads/ERMA/N96_2020/run/in/run/'\n",
    "full_n96_2020 = pd.DataFrame()\n",
    "full_n96_2020['Modeled Data [kWh]'] = return_values(sql_dir)['VariableValue']\n",
    "full_n96_2020['Metered Data [kWh]'] = meters_n96_2020\n",
    "full_n96_2020.index = pd.date_range(\"20200101\", \"20201231\", freq='MS')\n",
    "# full_n96_2020['Error [%]'] = ((full_n96_2020['Modeled Data [kWh]']-full_n96_2020['Metered Data [kWh]'])/full_n96_2020['Modeled Data [kWh]']*100).round(1)\n",
    "\n",
    "full_n96_2020\n",
    "\n",
    "\n",
    "\n"
   ]
  },
  {
   "cell_type": "code",
   "execution_count": 8,
   "id": "eb12cffa",
   "metadata": {},
   "outputs": [
    {
     "name": "stdout",
     "output_type": "stream",
     "text": [
      "   ReportMeterDataDictionaryIndex VariableType               IndexGroup  \\\n",
      "0                               8          Sum     Facility:Electricity   \n",
      "1                              10          Sum     Facility:Electricity   \n",
      "2                              11          Sum     Facility:Electricity   \n",
      "3                            3342          Sum  Facility:ElectricityNet   \n",
      "4                            3511          Sum      Facility:NaturalGas   \n",
      "5                            3512          Sum      Facility:NaturalGas   \n",
      "6                            3513          Sum      Facility:NaturalGas   \n",
      "\n",
      "  TimestepType KeyValue             VariableName ReportingFrequency  \\\n",
      "0         Zone     None     Electricity:Facility      Zone Timestep   \n",
      "1         Zone     None     Electricity:Facility              Daily   \n",
      "2         Zone     None     Electricity:Facility            Monthly   \n",
      "3         Zone     None  ElectricityNet:Facility             Hourly   \n",
      "4         Zone     None      NaturalGas:Facility      Zone Timestep   \n",
      "5         Zone     None      NaturalGas:Facility             Hourly   \n",
      "6         Zone     None      NaturalGas:Facility              Daily   \n",
      "\n",
      "  ScheduleName VariableUnits  \n",
      "0         None             J  \n",
      "1         None             J  \n",
      "2         None             J  \n",
      "3         None             J  \n",
      "4         None             J  \n",
      "5         None             J  \n",
      "6         None             J  \n"
     ]
    }
   ],
   "source": [
    "sql_dir = '/Users/cbianchi/Downloads/ERMA/14_Hangar_SEPARATE/run/in/run/'\n",
    "\n",
    "sql_path = return_path(sql_dir)\n",
    "conn = sqlite3.connect( '/Users/cbianchi/Downloads/ERMA/14_Hangar_SEPARATE/run/in/run/eplusout.sql')\n",
    "c = conn.cursor()\n",
    "query = \"SELECT * FROM ReportMeterDataDictionary \"\n",
    "# query = \"SELECT VariableValue FROM ReportMeterData WHERE ReportMeterDataDictionaryIndex=11 \"\n",
    "end_uses = pd.read_sql(query ,conn)\n",
    "print(end_uses)"
   ]
  },
  {
   "cell_type": "code",
   "execution_count": 171,
   "id": "0ae5c872",
   "metadata": {},
   "outputs": [
    {
     "name": "stdout",
     "output_type": "stream",
     "text": [
      "   ReportMeterDataDictionaryIndex VariableType               IndexGroup  \\\n",
      "0                               8          Sum     Facility:Electricity   \n",
      "1                              10          Sum     Facility:Electricity   \n",
      "2                              11          Sum     Facility:Electricity   \n",
      "3                            1042          Sum  Facility:ElectricityNet   \n",
      "4                            1256          Sum      Facility:NaturalGas   \n",
      "5                            1257          Sum      Facility:NaturalGas   \n",
      "6                            1258          Sum      Facility:NaturalGas   \n",
      "\n",
      "  TimestepType KeyValue             VariableName ReportingFrequency  \\\n",
      "0         Zone     None     Electricity:Facility      Zone Timestep   \n",
      "1         Zone     None     Electricity:Facility              Daily   \n",
      "2         Zone     None     Electricity:Facility            Monthly   \n",
      "3         Zone     None  ElectricityNet:Facility             Hourly   \n",
      "4         Zone     None      NaturalGas:Facility      Zone Timestep   \n",
      "5         Zone     None      NaturalGas:Facility             Hourly   \n",
      "6         Zone     None      NaturalGas:Facility              Daily   \n",
      "\n",
      "  ScheduleName VariableUnits  \n",
      "0         None             J  \n",
      "1         None             J  \n",
      "2         None             J  \n",
      "3         None             J  \n",
      "4         None             J  \n",
      "5         None             J  \n",
      "6         None             J  \n"
     ]
    },
    {
     "ename": "TypeError",
     "evalue": "can't multiply sequence by non-int of type 'float'",
     "output_type": "error",
     "traceback": [
      "\u001b[0;31m---------------------------------------------------------------------------\u001b[0m",
      "\u001b[0;31mTypeError\u001b[0m                                 Traceback (most recent call last)",
      "\u001b[0;32m~/opt/anaconda3/lib/python3.9/site-packages/pandas/core/ops/array_ops.py\u001b[0m in \u001b[0;36m_na_arithmetic_op\u001b[0;34m(left, right, op, is_cmp)\u001b[0m\n\u001b[1;32m    162\u001b[0m     \u001b[0;32mtry\u001b[0m\u001b[0;34m:\u001b[0m\u001b[0;34m\u001b[0m\u001b[0;34m\u001b[0m\u001b[0m\n\u001b[0;32m--> 163\u001b[0;31m         \u001b[0mresult\u001b[0m \u001b[0;34m=\u001b[0m \u001b[0mfunc\u001b[0m\u001b[0;34m(\u001b[0m\u001b[0mleft\u001b[0m\u001b[0;34m,\u001b[0m \u001b[0mright\u001b[0m\u001b[0;34m)\u001b[0m\u001b[0;34m\u001b[0m\u001b[0;34m\u001b[0m\u001b[0m\n\u001b[0m\u001b[1;32m    164\u001b[0m     \u001b[0;32mexcept\u001b[0m \u001b[0mTypeError\u001b[0m\u001b[0;34m:\u001b[0m\u001b[0;34m\u001b[0m\u001b[0;34m\u001b[0m\u001b[0m\n",
      "\u001b[0;32m~/opt/anaconda3/lib/python3.9/site-packages/pandas/core/computation/expressions.py\u001b[0m in \u001b[0;36mevaluate\u001b[0;34m(op, a, b, use_numexpr)\u001b[0m\n\u001b[1;32m    238\u001b[0m             \u001b[0;31m# error: \"None\" not callable\u001b[0m\u001b[0;34m\u001b[0m\u001b[0;34m\u001b[0m\u001b[0m\n\u001b[0;32m--> 239\u001b[0;31m             \u001b[0;32mreturn\u001b[0m \u001b[0m_evaluate\u001b[0m\u001b[0;34m(\u001b[0m\u001b[0mop\u001b[0m\u001b[0;34m,\u001b[0m \u001b[0mop_str\u001b[0m\u001b[0;34m,\u001b[0m \u001b[0ma\u001b[0m\u001b[0;34m,\u001b[0m \u001b[0mb\u001b[0m\u001b[0;34m)\u001b[0m  \u001b[0;31m# type: ignore[misc]\u001b[0m\u001b[0;34m\u001b[0m\u001b[0;34m\u001b[0m\u001b[0m\n\u001b[0m\u001b[1;32m    240\u001b[0m     \u001b[0;32mreturn\u001b[0m \u001b[0m_evaluate_standard\u001b[0m\u001b[0;34m(\u001b[0m\u001b[0mop\u001b[0m\u001b[0;34m,\u001b[0m \u001b[0mop_str\u001b[0m\u001b[0;34m,\u001b[0m \u001b[0ma\u001b[0m\u001b[0;34m,\u001b[0m \u001b[0mb\u001b[0m\u001b[0;34m)\u001b[0m\u001b[0;34m\u001b[0m\u001b[0;34m\u001b[0m\u001b[0m\n",
      "\u001b[0;32m~/opt/anaconda3/lib/python3.9/site-packages/pandas/core/computation/expressions.py\u001b[0m in \u001b[0;36m_evaluate_numexpr\u001b[0;34m(op, op_str, a, b)\u001b[0m\n\u001b[1;32m    127\u001b[0m     \u001b[0;32mif\u001b[0m \u001b[0mresult\u001b[0m \u001b[0;32mis\u001b[0m \u001b[0;32mNone\u001b[0m\u001b[0;34m:\u001b[0m\u001b[0;34m\u001b[0m\u001b[0;34m\u001b[0m\u001b[0m\n\u001b[0;32m--> 128\u001b[0;31m         \u001b[0mresult\u001b[0m \u001b[0;34m=\u001b[0m \u001b[0m_evaluate_standard\u001b[0m\u001b[0;34m(\u001b[0m\u001b[0mop\u001b[0m\u001b[0;34m,\u001b[0m \u001b[0mop_str\u001b[0m\u001b[0;34m,\u001b[0m \u001b[0ma\u001b[0m\u001b[0;34m,\u001b[0m \u001b[0mb\u001b[0m\u001b[0;34m)\u001b[0m\u001b[0;34m\u001b[0m\u001b[0;34m\u001b[0m\u001b[0m\n\u001b[0m\u001b[1;32m    129\u001b[0m \u001b[0;34m\u001b[0m\u001b[0m\n",
      "\u001b[0;32m~/opt/anaconda3/lib/python3.9/site-packages/pandas/core/computation/expressions.py\u001b[0m in \u001b[0;36m_evaluate_standard\u001b[0;34m(op, op_str, a, b)\u001b[0m\n\u001b[1;32m     68\u001b[0m         \u001b[0m_store_test_result\u001b[0m\u001b[0;34m(\u001b[0m\u001b[0;32mFalse\u001b[0m\u001b[0;34m)\u001b[0m\u001b[0;34m\u001b[0m\u001b[0;34m\u001b[0m\u001b[0m\n\u001b[0;32m---> 69\u001b[0;31m     \u001b[0;32mreturn\u001b[0m \u001b[0mop\u001b[0m\u001b[0;34m(\u001b[0m\u001b[0ma\u001b[0m\u001b[0;34m,\u001b[0m \u001b[0mb\u001b[0m\u001b[0;34m)\u001b[0m\u001b[0;34m\u001b[0m\u001b[0;34m\u001b[0m\u001b[0m\n\u001b[0m\u001b[1;32m     70\u001b[0m \u001b[0;34m\u001b[0m\u001b[0m\n",
      "\u001b[0;31mTypeError\u001b[0m: can't multiply sequence by non-int of type 'float'",
      "\nDuring handling of the above exception, another exception occurred:\n",
      "\u001b[0;31mTypeError\u001b[0m                                 Traceback (most recent call last)",
      "\u001b[0;32m/var/folders/cj/vhw1_9g1151dh76sjlgdyq19k7f3h5/T/ipykernel_81247/1328562086.py\u001b[0m in \u001b[0;36m<module>\u001b[0;34m\u001b[0m\n\u001b[1;32m     17\u001b[0m \u001b[0msql_dir\u001b[0m \u001b[0;34m=\u001b[0m \u001b[0;34m'/Users/cbianchi/Downloads/ERMA/N96_2020/run/in/run/'\u001b[0m\u001b[0;34m\u001b[0m\u001b[0;34m\u001b[0m\u001b[0m\n\u001b[1;32m     18\u001b[0m \u001b[0mfull_n96_2020\u001b[0m \u001b[0;34m=\u001b[0m \u001b[0mpd\u001b[0m\u001b[0;34m.\u001b[0m\u001b[0mDataFrame\u001b[0m\u001b[0;34m(\u001b[0m\u001b[0;34m)\u001b[0m\u001b[0;34m\u001b[0m\u001b[0;34m\u001b[0m\u001b[0m\n\u001b[0;32m---> 19\u001b[0;31m \u001b[0mfull_n96_2020\u001b[0m\u001b[0;34m[\u001b[0m\u001b[0;34m'Modeled Data [kWh]'\u001b[0m\u001b[0;34m]\u001b[0m \u001b[0;34m=\u001b[0m \u001b[0mreturn_values\u001b[0m\u001b[0;34m(\u001b[0m\u001b[0msql_dir\u001b[0m\u001b[0;34m)\u001b[0m\u001b[0;34m[\u001b[0m\u001b[0;34m'VariableValue'\u001b[0m\u001b[0;34m]\u001b[0m\u001b[0;34m\u001b[0m\u001b[0;34m\u001b[0m\u001b[0m\n\u001b[0m\u001b[1;32m     20\u001b[0m \u001b[0mfull_n96_2020\u001b[0m\u001b[0;34m[\u001b[0m\u001b[0;34m'Metered Data [kWh]'\u001b[0m\u001b[0;34m]\u001b[0m \u001b[0;34m=\u001b[0m \u001b[0mmeters_n96_2020\u001b[0m\u001b[0;34m\u001b[0m\u001b[0;34m\u001b[0m\u001b[0m\n\u001b[1;32m     21\u001b[0m \u001b[0mfull_n96_2020\u001b[0m\u001b[0;34m.\u001b[0m\u001b[0mindex\u001b[0m \u001b[0;34m=\u001b[0m \u001b[0mpd\u001b[0m\u001b[0;34m.\u001b[0m\u001b[0mdate_range\u001b[0m\u001b[0;34m(\u001b[0m\u001b[0;34m\"20200101\"\u001b[0m\u001b[0;34m,\u001b[0m \u001b[0;34m\"20201231\"\u001b[0m\u001b[0;34m,\u001b[0m \u001b[0mfreq\u001b[0m\u001b[0;34m=\u001b[0m\u001b[0;34m'MS'\u001b[0m\u001b[0;34m)\u001b[0m\u001b[0;34m\u001b[0m\u001b[0;34m\u001b[0m\u001b[0m\n",
      "\u001b[0;32m/var/folders/cj/vhw1_9g1151dh76sjlgdyq19k7f3h5/T/ipykernel_81247/1328562086.py\u001b[0m in \u001b[0;36mreturn_values\u001b[0;34m(sql_dir)\u001b[0m\n\u001b[1;32m      8\u001b[0m     \u001b[0mend_uses\u001b[0m \u001b[0;34m=\u001b[0m \u001b[0mpd\u001b[0m\u001b[0;34m.\u001b[0m\u001b[0mread_sql\u001b[0m\u001b[0;34m(\u001b[0m\u001b[0mquery\u001b[0m \u001b[0;34m,\u001b[0m\u001b[0mconn\u001b[0m\u001b[0;34m)\u001b[0m \u001b[0;31m#J\u001b[0m\u001b[0;34m\u001b[0m\u001b[0;34m\u001b[0m\u001b[0m\n\u001b[1;32m      9\u001b[0m     \u001b[0mprint\u001b[0m\u001b[0;34m(\u001b[0m\u001b[0mend_uses\u001b[0m\u001b[0;34m)\u001b[0m\u001b[0;34m\u001b[0m\u001b[0;34m\u001b[0m\u001b[0m\n\u001b[0;32m---> 10\u001b[0;31m     \u001b[0melectric_kWh\u001b[0m \u001b[0;34m=\u001b[0m \u001b[0mend_uses\u001b[0m\u001b[0;34m*\u001b[0m\u001b[0;36m2.7778e-7\u001b[0m\u001b[0;34m\u001b[0m\u001b[0;34m\u001b[0m\u001b[0m\n\u001b[0m\u001b[1;32m     11\u001b[0m \u001b[0;31m#     electric_kWh = end_uses\u001b[0m\u001b[0;34m\u001b[0m\u001b[0;34m\u001b[0m\u001b[0m\n\u001b[1;32m     12\u001b[0m \u001b[0;34m\u001b[0m\u001b[0m\n",
      "\u001b[0;32m~/opt/anaconda3/lib/python3.9/site-packages/pandas/core/ops/common.py\u001b[0m in \u001b[0;36mnew_method\u001b[0;34m(self, other)\u001b[0m\n\u001b[1;32m     68\u001b[0m         \u001b[0mother\u001b[0m \u001b[0;34m=\u001b[0m \u001b[0mitem_from_zerodim\u001b[0m\u001b[0;34m(\u001b[0m\u001b[0mother\u001b[0m\u001b[0;34m)\u001b[0m\u001b[0;34m\u001b[0m\u001b[0;34m\u001b[0m\u001b[0m\n\u001b[1;32m     69\u001b[0m \u001b[0;34m\u001b[0m\u001b[0m\n\u001b[0;32m---> 70\u001b[0;31m         \u001b[0;32mreturn\u001b[0m \u001b[0mmethod\u001b[0m\u001b[0;34m(\u001b[0m\u001b[0mself\u001b[0m\u001b[0;34m,\u001b[0m \u001b[0mother\u001b[0m\u001b[0;34m)\u001b[0m\u001b[0;34m\u001b[0m\u001b[0;34m\u001b[0m\u001b[0m\n\u001b[0m\u001b[1;32m     71\u001b[0m \u001b[0;34m\u001b[0m\u001b[0m\n\u001b[1;32m     72\u001b[0m     \u001b[0;32mreturn\u001b[0m \u001b[0mnew_method\u001b[0m\u001b[0;34m\u001b[0m\u001b[0;34m\u001b[0m\u001b[0m\n",
      "\u001b[0;32m~/opt/anaconda3/lib/python3.9/site-packages/pandas/core/arraylike.py\u001b[0m in \u001b[0;36m__mul__\u001b[0;34m(self, other)\u001b[0m\n\u001b[1;32m    114\u001b[0m     \u001b[0;34m@\u001b[0m\u001b[0munpack_zerodim_and_defer\u001b[0m\u001b[0;34m(\u001b[0m\u001b[0;34m\"__mul__\"\u001b[0m\u001b[0;34m)\u001b[0m\u001b[0;34m\u001b[0m\u001b[0;34m\u001b[0m\u001b[0m\n\u001b[1;32m    115\u001b[0m     \u001b[0;32mdef\u001b[0m \u001b[0m__mul__\u001b[0m\u001b[0;34m(\u001b[0m\u001b[0mself\u001b[0m\u001b[0;34m,\u001b[0m \u001b[0mother\u001b[0m\u001b[0;34m)\u001b[0m\u001b[0;34m:\u001b[0m\u001b[0;34m\u001b[0m\u001b[0;34m\u001b[0m\u001b[0m\n\u001b[0;32m--> 116\u001b[0;31m         \u001b[0;32mreturn\u001b[0m \u001b[0mself\u001b[0m\u001b[0;34m.\u001b[0m\u001b[0m_arith_method\u001b[0m\u001b[0;34m(\u001b[0m\u001b[0mother\u001b[0m\u001b[0;34m,\u001b[0m \u001b[0moperator\u001b[0m\u001b[0;34m.\u001b[0m\u001b[0mmul\u001b[0m\u001b[0;34m)\u001b[0m\u001b[0;34m\u001b[0m\u001b[0;34m\u001b[0m\u001b[0m\n\u001b[0m\u001b[1;32m    117\u001b[0m \u001b[0;34m\u001b[0m\u001b[0m\n\u001b[1;32m    118\u001b[0m     \u001b[0;34m@\u001b[0m\u001b[0munpack_zerodim_and_defer\u001b[0m\u001b[0;34m(\u001b[0m\u001b[0;34m\"__rmul__\"\u001b[0m\u001b[0;34m)\u001b[0m\u001b[0;34m\u001b[0m\u001b[0;34m\u001b[0m\u001b[0m\n",
      "\u001b[0;32m~/opt/anaconda3/lib/python3.9/site-packages/pandas/core/frame.py\u001b[0m in \u001b[0;36m_arith_method\u001b[0;34m(self, other, op)\u001b[0m\n\u001b[1;32m   6953\u001b[0m         \u001b[0mself\u001b[0m\u001b[0;34m,\u001b[0m \u001b[0mother\u001b[0m \u001b[0;34m=\u001b[0m \u001b[0mops\u001b[0m\u001b[0;34m.\u001b[0m\u001b[0malign_method_FRAME\u001b[0m\u001b[0;34m(\u001b[0m\u001b[0mself\u001b[0m\u001b[0;34m,\u001b[0m \u001b[0mother\u001b[0m\u001b[0;34m,\u001b[0m \u001b[0maxis\u001b[0m\u001b[0;34m,\u001b[0m \u001b[0mflex\u001b[0m\u001b[0;34m=\u001b[0m\u001b[0;32mTrue\u001b[0m\u001b[0;34m,\u001b[0m \u001b[0mlevel\u001b[0m\u001b[0;34m=\u001b[0m\u001b[0;32mNone\u001b[0m\u001b[0;34m)\u001b[0m\u001b[0;34m\u001b[0m\u001b[0;34m\u001b[0m\u001b[0m\n\u001b[1;32m   6954\u001b[0m \u001b[0;34m\u001b[0m\u001b[0m\n\u001b[0;32m-> 6955\u001b[0;31m         \u001b[0mnew_data\u001b[0m \u001b[0;34m=\u001b[0m \u001b[0mself\u001b[0m\u001b[0;34m.\u001b[0m\u001b[0m_dispatch_frame_op\u001b[0m\u001b[0;34m(\u001b[0m\u001b[0mother\u001b[0m\u001b[0;34m,\u001b[0m \u001b[0mop\u001b[0m\u001b[0;34m,\u001b[0m \u001b[0maxis\u001b[0m\u001b[0;34m=\u001b[0m\u001b[0maxis\u001b[0m\u001b[0;34m)\u001b[0m\u001b[0;34m\u001b[0m\u001b[0;34m\u001b[0m\u001b[0m\n\u001b[0m\u001b[1;32m   6956\u001b[0m         \u001b[0;32mreturn\u001b[0m \u001b[0mself\u001b[0m\u001b[0;34m.\u001b[0m\u001b[0m_construct_result\u001b[0m\u001b[0;34m(\u001b[0m\u001b[0mnew_data\u001b[0m\u001b[0;34m)\u001b[0m\u001b[0;34m\u001b[0m\u001b[0;34m\u001b[0m\u001b[0m\n\u001b[1;32m   6957\u001b[0m \u001b[0;34m\u001b[0m\u001b[0m\n",
      "\u001b[0;32m~/opt/anaconda3/lib/python3.9/site-packages/pandas/core/frame.py\u001b[0m in \u001b[0;36m_dispatch_frame_op\u001b[0;34m(self, right, func, axis)\u001b[0m\n\u001b[1;32m   6980\u001b[0m             \u001b[0;31m# i.e. scalar, faster than checking np.ndim(right) == 0\u001b[0m\u001b[0;34m\u001b[0m\u001b[0;34m\u001b[0m\u001b[0m\n\u001b[1;32m   6981\u001b[0m             \u001b[0;32mwith\u001b[0m \u001b[0mnp\u001b[0m\u001b[0;34m.\u001b[0m\u001b[0merrstate\u001b[0m\u001b[0;34m(\u001b[0m\u001b[0mall\u001b[0m\u001b[0;34m=\u001b[0m\u001b[0;34m\"ignore\"\u001b[0m\u001b[0;34m)\u001b[0m\u001b[0;34m:\u001b[0m\u001b[0;34m\u001b[0m\u001b[0;34m\u001b[0m\u001b[0m\n\u001b[0;32m-> 6982\u001b[0;31m                 \u001b[0mbm\u001b[0m \u001b[0;34m=\u001b[0m \u001b[0mself\u001b[0m\u001b[0;34m.\u001b[0m\u001b[0m_mgr\u001b[0m\u001b[0;34m.\u001b[0m\u001b[0mapply\u001b[0m\u001b[0;34m(\u001b[0m\u001b[0marray_op\u001b[0m\u001b[0;34m,\u001b[0m \u001b[0mright\u001b[0m\u001b[0;34m=\u001b[0m\u001b[0mright\u001b[0m\u001b[0;34m)\u001b[0m\u001b[0;34m\u001b[0m\u001b[0;34m\u001b[0m\u001b[0m\n\u001b[0m\u001b[1;32m   6983\u001b[0m             \u001b[0;32mreturn\u001b[0m \u001b[0mself\u001b[0m\u001b[0;34m.\u001b[0m\u001b[0m_constructor\u001b[0m\u001b[0;34m(\u001b[0m\u001b[0mbm\u001b[0m\u001b[0;34m)\u001b[0m\u001b[0;34m\u001b[0m\u001b[0;34m\u001b[0m\u001b[0m\n\u001b[1;32m   6984\u001b[0m \u001b[0;34m\u001b[0m\u001b[0m\n",
      "\u001b[0;32m~/opt/anaconda3/lib/python3.9/site-packages/pandas/core/internals/managers.py\u001b[0m in \u001b[0;36mapply\u001b[0;34m(self, f, align_keys, ignore_failures, **kwargs)\u001b[0m\n\u001b[1;32m    300\u001b[0m             \u001b[0;32mtry\u001b[0m\u001b[0;34m:\u001b[0m\u001b[0;34m\u001b[0m\u001b[0;34m\u001b[0m\u001b[0m\n\u001b[1;32m    301\u001b[0m                 \u001b[0;32mif\u001b[0m \u001b[0mcallable\u001b[0m\u001b[0;34m(\u001b[0m\u001b[0mf\u001b[0m\u001b[0;34m)\u001b[0m\u001b[0;34m:\u001b[0m\u001b[0;34m\u001b[0m\u001b[0;34m\u001b[0m\u001b[0m\n\u001b[0;32m--> 302\u001b[0;31m                     \u001b[0mapplied\u001b[0m \u001b[0;34m=\u001b[0m \u001b[0mb\u001b[0m\u001b[0;34m.\u001b[0m\u001b[0mapply\u001b[0m\u001b[0;34m(\u001b[0m\u001b[0mf\u001b[0m\u001b[0;34m,\u001b[0m \u001b[0;34m**\u001b[0m\u001b[0mkwargs\u001b[0m\u001b[0;34m)\u001b[0m\u001b[0;34m\u001b[0m\u001b[0;34m\u001b[0m\u001b[0m\n\u001b[0m\u001b[1;32m    303\u001b[0m                 \u001b[0;32melse\u001b[0m\u001b[0;34m:\u001b[0m\u001b[0;34m\u001b[0m\u001b[0;34m\u001b[0m\u001b[0m\n\u001b[1;32m    304\u001b[0m                     \u001b[0mapplied\u001b[0m \u001b[0;34m=\u001b[0m \u001b[0mgetattr\u001b[0m\u001b[0;34m(\u001b[0m\u001b[0mb\u001b[0m\u001b[0;34m,\u001b[0m \u001b[0mf\u001b[0m\u001b[0;34m)\u001b[0m\u001b[0;34m(\u001b[0m\u001b[0;34m**\u001b[0m\u001b[0mkwargs\u001b[0m\u001b[0;34m)\u001b[0m\u001b[0;34m\u001b[0m\u001b[0;34m\u001b[0m\u001b[0m\n",
      "\u001b[0;32m~/opt/anaconda3/lib/python3.9/site-packages/pandas/core/internals/blocks.py\u001b[0m in \u001b[0;36mapply\u001b[0;34m(self, func, **kwargs)\u001b[0m\n\u001b[1;32m    400\u001b[0m         \u001b[0mone\u001b[0m\u001b[0;34m\u001b[0m\u001b[0;34m\u001b[0m\u001b[0m\n\u001b[1;32m    401\u001b[0m         \"\"\"\n\u001b[0;32m--> 402\u001b[0;31m         \u001b[0mresult\u001b[0m \u001b[0;34m=\u001b[0m \u001b[0mfunc\u001b[0m\u001b[0;34m(\u001b[0m\u001b[0mself\u001b[0m\u001b[0;34m.\u001b[0m\u001b[0mvalues\u001b[0m\u001b[0;34m,\u001b[0m \u001b[0;34m**\u001b[0m\u001b[0mkwargs\u001b[0m\u001b[0;34m)\u001b[0m\u001b[0;34m\u001b[0m\u001b[0;34m\u001b[0m\u001b[0m\n\u001b[0m\u001b[1;32m    403\u001b[0m \u001b[0;34m\u001b[0m\u001b[0m\n\u001b[1;32m    404\u001b[0m         \u001b[0;32mreturn\u001b[0m \u001b[0mself\u001b[0m\u001b[0;34m.\u001b[0m\u001b[0m_split_op_result\u001b[0m\u001b[0;34m(\u001b[0m\u001b[0mresult\u001b[0m\u001b[0;34m)\u001b[0m\u001b[0;34m\u001b[0m\u001b[0;34m\u001b[0m\u001b[0m\n",
      "\u001b[0;32m~/opt/anaconda3/lib/python3.9/site-packages/pandas/core/ops/array_ops.py\u001b[0m in \u001b[0;36marithmetic_op\u001b[0;34m(left, right, op)\u001b[0m\n\u001b[1;32m    220\u001b[0m         \u001b[0m_bool_arith_check\u001b[0m\u001b[0;34m(\u001b[0m\u001b[0mop\u001b[0m\u001b[0;34m,\u001b[0m \u001b[0mleft\u001b[0m\u001b[0;34m,\u001b[0m \u001b[0mright\u001b[0m\u001b[0;34m)\u001b[0m\u001b[0;34m\u001b[0m\u001b[0;34m\u001b[0m\u001b[0m\n\u001b[1;32m    221\u001b[0m \u001b[0;34m\u001b[0m\u001b[0m\n\u001b[0;32m--> 222\u001b[0;31m         \u001b[0mres_values\u001b[0m \u001b[0;34m=\u001b[0m \u001b[0m_na_arithmetic_op\u001b[0m\u001b[0;34m(\u001b[0m\u001b[0mleft\u001b[0m\u001b[0;34m,\u001b[0m \u001b[0mright\u001b[0m\u001b[0;34m,\u001b[0m \u001b[0mop\u001b[0m\u001b[0;34m)\u001b[0m\u001b[0;34m\u001b[0m\u001b[0;34m\u001b[0m\u001b[0m\n\u001b[0m\u001b[1;32m    223\u001b[0m \u001b[0;34m\u001b[0m\u001b[0m\n\u001b[1;32m    224\u001b[0m     \u001b[0;32mreturn\u001b[0m \u001b[0mres_values\u001b[0m\u001b[0;34m\u001b[0m\u001b[0;34m\u001b[0m\u001b[0m\n",
      "\u001b[0;32m~/opt/anaconda3/lib/python3.9/site-packages/pandas/core/ops/array_ops.py\u001b[0m in \u001b[0;36m_na_arithmetic_op\u001b[0;34m(left, right, op, is_cmp)\u001b[0m\n\u001b[1;32m    168\u001b[0m             \u001b[0;31m# Don't do this for comparisons, as that will handle complex numbers\u001b[0m\u001b[0;34m\u001b[0m\u001b[0;34m\u001b[0m\u001b[0m\n\u001b[1;32m    169\u001b[0m             \u001b[0;31m#  incorrectly, see GH#32047\u001b[0m\u001b[0;34m\u001b[0m\u001b[0;34m\u001b[0m\u001b[0m\n\u001b[0;32m--> 170\u001b[0;31m             \u001b[0mresult\u001b[0m \u001b[0;34m=\u001b[0m \u001b[0m_masked_arith_op\u001b[0m\u001b[0;34m(\u001b[0m\u001b[0mleft\u001b[0m\u001b[0;34m,\u001b[0m \u001b[0mright\u001b[0m\u001b[0;34m,\u001b[0m \u001b[0mop\u001b[0m\u001b[0;34m)\u001b[0m\u001b[0;34m\u001b[0m\u001b[0;34m\u001b[0m\u001b[0m\n\u001b[0m\u001b[1;32m    171\u001b[0m         \u001b[0;32melse\u001b[0m\u001b[0;34m:\u001b[0m\u001b[0;34m\u001b[0m\u001b[0;34m\u001b[0m\u001b[0m\n\u001b[1;32m    172\u001b[0m             \u001b[0;32mraise\u001b[0m\u001b[0;34m\u001b[0m\u001b[0;34m\u001b[0m\u001b[0m\n",
      "\u001b[0;32m~/opt/anaconda3/lib/python3.9/site-packages/pandas/core/ops/array_ops.py\u001b[0m in \u001b[0;36m_masked_arith_op\u001b[0;34m(x, y, op)\u001b[0m\n\u001b[1;32m    125\u001b[0m \u001b[0;34m\u001b[0m\u001b[0m\n\u001b[1;32m    126\u001b[0m         \u001b[0;32mif\u001b[0m \u001b[0mmask\u001b[0m\u001b[0;34m.\u001b[0m\u001b[0many\u001b[0m\u001b[0;34m(\u001b[0m\u001b[0;34m)\u001b[0m\u001b[0;34m:\u001b[0m\u001b[0;34m\u001b[0m\u001b[0;34m\u001b[0m\u001b[0m\n\u001b[0;32m--> 127\u001b[0;31m             \u001b[0mresult\u001b[0m\u001b[0;34m[\u001b[0m\u001b[0mmask\u001b[0m\u001b[0;34m]\u001b[0m \u001b[0;34m=\u001b[0m \u001b[0mop\u001b[0m\u001b[0;34m(\u001b[0m\u001b[0mxrav\u001b[0m\u001b[0;34m[\u001b[0m\u001b[0mmask\u001b[0m\u001b[0;34m]\u001b[0m\u001b[0;34m,\u001b[0m \u001b[0my\u001b[0m\u001b[0;34m)\u001b[0m\u001b[0;34m\u001b[0m\u001b[0;34m\u001b[0m\u001b[0m\n\u001b[0m\u001b[1;32m    128\u001b[0m \u001b[0;34m\u001b[0m\u001b[0m\n\u001b[1;32m    129\u001b[0m     \u001b[0mnp\u001b[0m\u001b[0;34m.\u001b[0m\u001b[0mputmask\u001b[0m\u001b[0;34m(\u001b[0m\u001b[0mresult\u001b[0m\u001b[0;34m,\u001b[0m \u001b[0;34m~\u001b[0m\u001b[0mmask\u001b[0m\u001b[0;34m,\u001b[0m \u001b[0mnp\u001b[0m\u001b[0;34m.\u001b[0m\u001b[0mnan\u001b[0m\u001b[0;34m)\u001b[0m\u001b[0;34m\u001b[0m\u001b[0;34m\u001b[0m\u001b[0m\n",
      "\u001b[0;31mTypeError\u001b[0m: can't multiply sequence by non-int of type 'float'"
     ]
    }
   ],
   "source": [
    "def return_values(sql_dir):\n",
    "    sql_path = return_path(sql_dir)\n",
    "    conn = sqlite3.connect(sql_path)\n",
    "    c = conn.cursor()\n",
    "#     query = \"SELECT * FROM TabularDataWithStrings WHERE ReportName='AnnualBuildingUtilityPerformanceSummary' AND TableName='End Uses'\"\n",
    "    query = \"SELECT * FROM ReportMeterDataDictionary \"\n",
    "#     query = \"SELECT VariableValue FROM ReportMeterData WHERE ReportMeterDataDictionaryIndex=11 \"\n",
    "    end_uses = pd.read_sql(query ,conn) #J\n",
    "    print(end_uses)\n",
    "    electric_kWh = end_uses*2.7778e-7\n",
    "#     electric_kWh = end_uses\n",
    "\n",
    "    return electric_kWh\n",
    "       \n",
    "\n",
    "\n",
    "sql_dir = '/Users/cbianchi/Downloads/ERMA/N96_2020/run/in/run/'\n",
    "full_n96_2020 = pd.DataFrame()\n",
    "full_n96_2020['Modeled Data [kWh]'] = return_values(sql_dir)['VariableValue']\n",
    "full_n96_2020['Metered Data [kWh]'] = meters_n96_2020\n",
    "full_n96_2020.index = pd.date_range(\"20200101\", \"20201231\", freq='MS')\n",
    "full_n96_2020['Error [%]'] = ((full_n96_2020['Modeled Data [kWh]']-full_n96_2020['Metered Data [kWh]'])/full_n96_2020['Modeled Data [kWh]']*100).round(1)\n",
    "\n",
    "full_n96_2020\n",
    "\n",
    "\n",
    "\n"
   ]
  },
  {
   "cell_type": "code",
   "execution_count": null,
   "id": "572ea1bd",
   "metadata": {},
   "outputs": [],
   "source": [
    "full_n96_2020.plot(title='Electric Load\\nN96')"
   ]
  },
  {
   "cell_type": "code",
   "execution_count": null,
   "id": "b17a1225",
   "metadata": {},
   "outputs": [],
   "source": [
    "def return_values(sql_dir):\n",
    "    sql_path = return_path(sql_dir)\n",
    "    conn = sqlite3.connect(sql_path)\n",
    "    c = conn.cursor()\n",
    "#     query = \"SELECT * FROM TabularDataWithStrings WHERE ReportName='AnnualBuildingUtilityPerformanceSummary' AND TableName='End Uses'\"\n",
    "    query = \"SELECT * FROM ReportMeterDataDictionary \"\n",
    "    query = \"SELECT VariableValue FROM ReportMeterData WHERE ReportMeterDataDictionaryIndex=11 \"\n",
    "    end_uses = pd.read_sql(query ,conn) #J\n",
    "    print(end_uses)\n",
    "    electric_kWh = end_uses*2.7778e-7\n",
    "#     electric_kWh = end_uses\n",
    "\n",
    "    return electric_kWh\n",
    "       \n",
    "\n",
    "\n",
    "sql_dir = '/Users/cbianchi/Downloads/ERMA/14_Hangar_SEPARATE/run/in/run/'\n",
    "full_n96_2020 = pd.DataFrame()\n",
    "full_n96_2020['Modeled Data [kWh]'] = return_values(sql_dir)['VariableValue']\n",
    "full_n96_2020['Metered Data [kWh]'] = meters_14_hangar_2020\n",
    "full_n96_2020.index = pd.date_range(\"20200101\", \"20201231\", freq='MS')\n",
    "full_n96_2020['Error [%]'] = ((full_n96_2020['Modeled Data [kWh]']-full_n96_2020['Metered Data [kWh]'])/full_n96_2020['Modeled Data [kWh]']*100).round(1)\n",
    "\n",
    "full_n96_2020"
   ]
  },
  {
   "cell_type": "code",
   "execution_count": null,
   "id": "777c0e6c",
   "metadata": {},
   "outputs": [],
   "source": []
  },
  {
   "cell_type": "code",
   "execution_count": null,
   "id": "7f2407ad",
   "metadata": {},
   "outputs": [],
   "source": []
  },
  {
   "cell_type": "code",
   "execution_count": null,
   "id": "30c6a20c",
   "metadata": {},
   "outputs": [],
   "source": []
  },
  {
   "cell_type": "code",
   "execution_count": 1,
   "id": "c680d4f8",
   "metadata": {},
   "outputs": [
    {
     "ename": "NameError",
     "evalue": "name 'json' is not defined",
     "output_type": "error",
     "traceback": [
      "\u001b[0;31m---------------------------------------------------------------------------\u001b[0m",
      "\u001b[0;31mNameError\u001b[0m                                 Traceback (most recent call last)",
      "\u001b[0;32m/var/folders/cj/vhw1_9g1151dh76sjlgdyq19k7f3h5/T/ipykernel_42882/2099737340.py\u001b[0m in \u001b[0;36m<module>\u001b[0;34m\u001b[0m\n\u001b[0;32m----> 1\u001b[0;31m \u001b[0mcounties\u001b[0m \u001b[0;34m=\u001b[0m \u001b[0mjson\u001b[0m\u001b[0;34m.\u001b[0m\u001b[0mloads\u001b[0m\u001b[0;34m(\u001b[0m\u001b[0mr\u001b[0m\u001b[0;34m.\u001b[0m\u001b[0mtext\u001b[0m\u001b[0;34m)\u001b[0m\u001b[0;34m\u001b[0m\u001b[0;34m\u001b[0m\u001b[0m\n\u001b[0m",
      "\u001b[0;31mNameError\u001b[0m: name 'json' is not defined"
     ]
    }
   ],
   "source": [
    "counties = json.loads(r.text)"
   ]
  },
  {
   "cell_type": "code",
   "execution_count": null,
   "id": "b444030c",
   "metadata": {},
   "outputs": [],
   "source": []
  },
  {
   "cell_type": "code",
   "execution_count": null,
   "id": "db16d3a0",
   "metadata": {},
   "outputs": [],
   "source": []
  },
  {
   "cell_type": "code",
   "execution_count": null,
   "id": "e6ad58e4",
   "metadata": {},
   "outputs": [],
   "source": []
  },
  {
   "cell_type": "code",
   "execution_count": null,
   "id": "913bc1bf",
   "metadata": {},
   "outputs": [],
   "source": [
    "bldgs = ['Retail', 'School', 'Warehouse']\n",
    "czs = ['4A', '4B', '5A', '5B']\n",
    "for bldg in bldgs:\n",
    "    df = pd.DataFrame(columns = [\"building\", \"cz\", \"city\",\"lights\", \"swh_gas\", \"swh_electric\", \"heating_gas\", \"hvac_electric\", \"cooling_electric\", \"eui_electric\", \"eui_gas\"])\n",
    "    for cz in czs:\n",
    "        path_cities = '/Users/cbianchi/Library/CloudStorage/OneDrive-NREL/179D/WeatherAnalysis/' + bldg + '/' + cz + '/'\n",
    "        list_cities = Filter(os.listdir(path_cities), '.osm')\n",
    "        while('.DS_Store' in list_cities):\n",
    "            list_cities.remove('.DS_Store')\n",
    "        cities = [sub.replace('.osm', '') for sub in list_cities]\n",
    "        for city in cities:\n",
    "            [lights, swh_gas, swh_electric, heating_gas, hvac_electric, cooling_electric, eui_electric, eui_gas] = return_values(bldg, cz, city)\n",
    "            df.loc[len(df)] = [bldg, cz, city, lights, swh_gas, swh_electric, heating_gas, hvac_electric, cooling_electric, eui_electric, eui_gas]\n",
    "    #Create percentages dfs\n",
    "    df_percentage = pd.DataFrame()\n",
    "    headers = [\"building\", \"cz\", \"city\",\"lights\", \"swh_gas\", \"swh_electric\", \"heating_gas\", \"hvac_electric\", \"cooling_electric\", \"eui_electric\", \"eui_gas\"]\n",
    "    for cz in czs:\n",
    "        df_cz = calculate_percentage(df[df['cz']==cz], headers)\n",
    "        df_percentage = df_percentage.append(df_cz)\n",
    "    \n",
    "        \n",
    "            \n",
    "    #Plot\n",
    "    print(df_percentage)\n",
    "    fig = px.box(df, x = \"cz\", y=\"lights\", title=bldg + ' - Interior Lights', labels={\"cz\": \"Climate Zones\", \"lights\":\"Energy [GJ]\"})\n",
    "#     fig.show()\n",
    "    fig.write_image(bldg + \"_lights.png\") \n",
    "    fig = px.box(df, x = \"cz\", y=\"swh_gas\", title=bldg + ' - Water Heating NG', labels={\"cz\": \"Climate Zones\", \"swh_gas\":\"Energy [GJ]\"})\n",
    "    fig.write_image(bldg + \"_swh_gas.png\") \n",
    "    fig = px.box(df, x = \"cz\", y=\"swh_electric\", title=bldg + ' - Water Heating Electric', labels={\"cz\": \"Climate Zones\", \"swh_electric\":\"Energy [GJ]\"})\n",
    "    fig.write_image(bldg + \"_swh_electric.png\") \n",
    "    fig = px.box(df, x = \"cz\", y=\"heating_gas\", title=bldg + ' - Heating NG', labels={\"cz\": \"Climate Zones\", \"heating_gas\":\"Energy [GJ]\"})\n",
    "    fig.write_image(bldg + \"_heating_gas.png\")\n",
    "    fig = px.box(df, x = \"cz\", y=\"hvac_electric\", title=bldg + ' - Heating Electric', labels={\"cz\": \"Climate Zones\", \"hvac_electric\":\"Energy [GJ]\"})\n",
    "    fig.write_image(bldg + \"_hvac_electric.png\")\n",
    "    fig = px.box(df, x = \"cz\", y=\"cooling_electric\", title=bldg + ' - Cooling Electric', labels={\"cz\": \"Climate Zones\", \"cooling_electric\":\"Energy [GJ]\"})\n",
    "    fig.write_image(bldg + \"_cooling_electric.png\")\n",
    "    fig = px.box(df, x = \"cz\", y=\"eui_electric\", title=bldg + ' - EUI Electric', labels={\"cz\": \"Climate Zones\", \"eui_electric\":\"Energy [kBTUh/ft2]\"})\n",
    "    fig.write_image(bldg + \"_eui_electric.png\")\n",
    "    fig = px.box(df, x = \"cz\", y=\"eui_gas\", title=bldg + ' - EUI NG', labels={\"cz\": \"Climate Zones\", \"eui_gas\":\"Energy [kBTUh/ft2]\"})\n",
    "    fig.write_image(bldg + \"_eui_gas.png\")\n",
    "    \n",
    "    #####\n",
    "    \n",
    "    \n",
    "    fig = px.box(df_percentage, x = \"cz\", y=\"lights\", title=bldg + ' - Interior Lights', labels={\"cz\": \"Climate Zones\", \"lights\":\"Energy [%]\"})\n",
    "#     fig.show()\n",
    "    fig.write_image(bldg + \"_lights_%.png\") \n",
    "    fig = px.box(df_percentage, x = \"cz\", y=\"swh_gas\", title=bldg + ' - Water Heating NG', labels={\"cz\": \"Climate Zones\", \"swh_gas\":\"Energy [%]\"})\n",
    "    fig.write_image(bldg + \"_swh_gas_%.png\") \n",
    "    fig = px.box(df_percentage, x = \"cz\", y=\"swh_electric\", title=bldg + ' - Water Heating Electric', labels={\"cz\": \"Climate Zones\", \"swh_electric\":\"Energy [%]\"})\n",
    "    fig.write_image(bldg + \"_swh_electric_%.png\") \n",
    "    fig = px.box(df_percentage, x = \"cz\", y=\"heating_gas\", title=bldg + ' - Heating NG', labels={\"cz\": \"Climate Zones\", \"heating_gas\":\"Energy [%]\"})\n",
    "    fig.write_image(bldg + \"_heating_gas_%.png\")\n",
    "    fig = px.box(df_percentage, x = \"cz\", y=\"hvac_electric\", title=bldg + ' - Heating Electric', labels={\"cz\": \"Climate Zones\", \"hvac_electric\":\"Energy [%]\"})\n",
    "    fig.write_image(bldg + \"_hvac_electric_%.png\")\n",
    "    fig = px.box(df_percentage, x = \"cz\", y=\"cooling_electric\", title=bldg + ' - Cooling Electric', labels={\"cz\": \"Climate Zones\", \"cooling_electric\":\"Energy [%]\"})\n",
    "    fig.write_image(bldg + \"_cooling_electric_%.png\")\n",
    "    fig = px.box(df_percentage, x = \"cz\", y=\"eui_electric\", title=bldg + ' - EUI Electric', labels={\"cz\": \"Climate Zones\", \"eui_electric\":\"Energy [%]\"})\n",
    "    fig.write_image(bldg + \"_eui_electric_%.png\")\n",
    "    fig = px.box(df_percentage, x = \"cz\", y=\"eui_gas\", title=bldg + ' - EUI NG', labels={\"cz\": \"Climate Zones\", \"eui_gas\":\"Energy [%]\"})\n",
    "    fig.write_image(bldg + \"_eui_gas_%.png\")\n",
    "\n",
    "            \n",
    "\n",
    "\n",
    "\n"
   ]
  },
  {
   "cell_type": "code",
   "execution_count": null,
   "id": "9ddd4fbf",
   "metadata": {},
   "outputs": [],
   "source": [
    "lights = float(gas_elect[(gas_elect['RowName']=='Interior Lighting') & (gas_elect['ColumnName']=='Electricity')]['Value'].values[0])\n",
    "swh = float(gas_elect[(gas_elect['RowName']=='Water Systems') & (gas_elect['ColumnName']=='Natural Gas')]['Value'].values[0])\n",
    "\n"
   ]
  },
  {
   "cell_type": "code",
   "execution_count": null,
   "id": "02497d72",
   "metadata": {},
   "outputs": [],
   "source": [
    "df"
   ]
  },
  {
   "cell_type": "code",
   "execution_count": null,
   "id": "2a730fa5",
   "metadata": {},
   "outputs": [],
   "source": [
    "\n",
    "import plotly.express as px\n",
    " \n",
    "# df = px.data.tips()\n",
    " \n",
    "fig = px.box(df, x = \"cz\", y=\"lights\")\n",
    "fig.show()"
   ]
  },
  {
   "cell_type": "code",
   "execution_count": null,
   "id": "335704a8",
   "metadata": {},
   "outputs": [],
   "source": []
  },
  {
   "cell_type": "code",
   "execution_count": null,
   "id": "77eda5ca",
   "metadata": {},
   "outputs": [],
   "source": []
  },
  {
   "cell_type": "code",
   "execution_count": null,
   "id": "ef258b34",
   "metadata": {},
   "outputs": [],
   "source": []
  },
  {
   "cell_type": "code",
   "execution_count": null,
   "id": "d29efaa0",
   "metadata": {},
   "outputs": [],
   "source": [
    "df"
   ]
  },
  {
   "cell_type": "code",
   "execution_count": null,
   "id": "ea185081",
   "metadata": {},
   "outputs": [],
   "source": [
    "\n",
    "import plotly.express as px\n",
    " \n",
    "df = px.data.tips()\n",
    " \n",
    "fig = px.box(df, x = \"sex\", y=\"total_bill\")\n",
    "fig.show()"
   ]
  },
  {
   "cell_type": "code",
   "execution_count": null,
   "id": "aee00871",
   "metadata": {},
   "outputs": [],
   "source": []
  },
  {
   "cell_type": "code",
   "execution_count": null,
   "id": "e0007af4",
   "metadata": {},
   "outputs": [],
   "source": []
  },
  {
   "cell_type": "code",
   "execution_count": null,
   "id": "71230f7a",
   "metadata": {},
   "outputs": [],
   "source": []
  }
 ],
 "metadata": {
  "kernelspec": {
   "display_name": "Python 3 (ipykernel)",
   "language": "python",
   "name": "python3"
  },
  "language_info": {
   "codemirror_mode": {
    "name": "ipython",
    "version": 3
   },
   "file_extension": ".py",
   "mimetype": "text/x-python",
   "name": "python",
   "nbconvert_exporter": "python",
   "pygments_lexer": "ipython3",
   "version": "3.10.10"
  }
 },
 "nbformat": 4,
 "nbformat_minor": 5
}
